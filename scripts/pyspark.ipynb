{
 "cells": [
  {
   "cell_type": "code",
   "execution_count": 22,
   "id": "db315073",
   "metadata": {},
   "outputs": [],
   "source": [
    "import findspark\n",
    "from pyspark.sql.types import IntegerType\n",
    "from pyspark.sql.functions import col, regexp_replace\n",
    "import requests\n",
    "from pyspark.sql.functions import monotonically_increasing_id\n",
    "from pyspark.sql import functions as F\n"
   ]
  },
  {
   "cell_type": "code",
   "execution_count": 2,
   "id": "3e1bd28a",
   "metadata": {},
   "outputs": [
    {
     "data": {
      "text/plain": [
       "'C:\\\\Users\\\\HamzaMOUMINE\\\\Documents\\\\non_adm_software\\\\anaconda3\\\\envs\\\\workspace\\\\Lib\\\\site-packages\\\\pyspark'"
      ]
     },
     "execution_count": 2,
     "metadata": {},
     "output_type": "execute_result"
    }
   ],
   "source": [
    "findspark.init()\n",
    "findspark.find()\n"
   ]
  },
  {
   "cell_type": "code",
   "execution_count": 3,
   "id": "18e469ee",
   "metadata": {},
   "outputs": [],
   "source": [
    "from pyspark.sql import SparkSession\n"
   ]
  },
  {
   "cell_type": "code",
   "execution_count": 4,
   "id": "05446ed5",
   "metadata": {},
   "outputs": [],
   "source": [
    "spark = SparkSession.builder.appName('domain.com').getOrCreate()\n"
   ]
  },
  {
   "cell_type": "code",
   "execution_count": 5,
   "id": "23498ff2",
   "metadata": {},
   "outputs": [],
   "source": [
    "base_path=\"C:/Users/HamzaMOUMINE/Documents/data/films\"\n",
    "## Download dataset url: https://datasets.imdbws.com/"
   ]
  },
  {
   "cell_type": "code",
   "execution_count": 6,
   "id": "ee0e948a",
   "metadata": {},
   "outputs": [],
   "source": [
    "data_file=\"data.tsv\""
   ]
  },
  {
   "cell_type": "code",
   "execution_count": 7,
   "id": "4c4f086d",
   "metadata": {},
   "outputs": [],
   "source": [
    "folders=[\"name.basics.tsv\", \"title.akas.tsv\", \"title.basics.tsv\", \"title.crew.tsv\", \"title.episode.tsv\", \"title.principals.tsv\", \"title.ratings.tsv\"]"
   ]
  },
  {
   "cell_type": "code",
   "execution_count": 8,
   "id": "14827307",
   "metadata": {},
   "outputs": [],
   "source": [
    "files=[]\n",
    "for folder in folders :\n",
    "    files.append(base_path + '/' + folder + '/' + data_file)"
   ]
  },
  {
   "cell_type": "code",
   "execution_count": 9,
   "id": "386bc16f",
   "metadata": {},
   "outputs": [],
   "source": [
    "name_basics = spark.read.csv(files[0], sep=r'\\t', header=True, inferSchema=True)\n"
   ]
  },
  {
   "cell_type": "code",
   "execution_count": 10,
   "id": "bd77b9e1",
   "metadata": {},
   "outputs": [],
   "source": [
    "title_akas = spark.read.csv(files[1], sep=r'\\t', header=True, inferSchema=True)"
   ]
  },
  {
   "cell_type": "code",
   "execution_count": 11,
   "id": "59e28e2e",
   "metadata": {},
   "outputs": [],
   "source": [
    "title_basics = spark.read.csv(files[2], sep=r'\\t', header=True, inferSchema=True)"
   ]
  },
  {
   "cell_type": "code",
   "execution_count": 12,
   "id": "978f5365",
   "metadata": {},
   "outputs": [],
   "source": [
    "title_crew = spark.read.csv(files[3], sep=r'\\t', header=True, inferSchema=True)"
   ]
  },
  {
   "cell_type": "code",
   "execution_count": 13,
   "id": "282aa1c2",
   "metadata": {},
   "outputs": [],
   "source": [
    "title_episode = spark.read.csv(files[4], sep=r'\\t', header=True, inferSchema=True)"
   ]
  },
  {
   "cell_type": "code",
   "execution_count": 14,
   "id": "1e17f744",
   "metadata": {},
   "outputs": [],
   "source": [
    "title_principals = spark.read.csv(files[5], sep=r'\\t', header=True, inferSchema=True)"
   ]
  },
  {
   "cell_type": "code",
   "execution_count": 15,
   "id": "cbb854c2",
   "metadata": {},
   "outputs": [],
   "source": [
    "title_ratings = spark.read.csv(files[6], sep=r'\\t', header=True, inferSchema=True)"
   ]
  },
  {
   "cell_type": "code",
   "execution_count": 16,
   "id": "06eb3c1a",
   "metadata": {},
   "outputs": [],
   "source": [
    "datas = [name_basics, title_akas, title_basics, title_crew, title_episode, title_principals, title_ratings]"
   ]
  },
  {
   "cell_type": "code",
   "execution_count": 17,
   "id": "51522760",
   "metadata": {},
   "outputs": [
    {
     "name": "stdout",
     "output_type": "stream",
     "text": [
      "name.basics.tsv\n",
      "+---------+------------+---------+---------+--------------------+--------------------+\n",
      "|   nconst| primaryName|birthYear|deathYear|   primaryProfession|      knownForTitles|\n",
      "+---------+------------+---------+---------+--------------------+--------------------+\n",
      "|nm0000001|Fred Astaire|     1899|     1987|soundtrack,actor,...|tt0072308,tt00531...|\n",
      "+---------+------------+---------+---------+--------------------+--------------------+\n",
      "only showing top 1 row\n",
      "\n",
      "title.akas.tsv\n",
      "+---------+--------+----------+------+--------+-----------+----------+---------------+\n",
      "|  titleId|ordering|     title|region|language|      types|attributes|isOriginalTitle|\n",
      "+---------+--------+----------+------+--------+-----------+----------+---------------+\n",
      "|tt0000001|       1|Карменсіта|    UA|      \\N|imdbDisplay|        \\N|              0|\n",
      "+---------+--------+----------+------+--------+-----------+----------+---------------+\n",
      "only showing top 1 row\n",
      "\n",
      "title.basics.tsv\n",
      "+---------+---------+------------+-------------+-------+---------+-------+--------------+-----------------+\n",
      "|   tconst|titleType|primaryTitle|originalTitle|isAdult|startYear|endYear|runtimeMinutes|           genres|\n",
      "+---------+---------+------------+-------------+-------+---------+-------+--------------+-----------------+\n",
      "|tt0000001|    short|  Carmencita|   Carmencita|      0|     1894|     \\N|             1|Documentary,Short|\n",
      "+---------+---------+------------+-------------+-------+---------+-------+--------------+-----------------+\n",
      "only showing top 1 row\n",
      "\n",
      "title.crew.tsv\n",
      "+---------+---------+-------+\n",
      "|   tconst|directors|writers|\n",
      "+---------+---------+-------+\n",
      "|tt0000001|nm0005690|     \\N|\n",
      "+---------+---------+-------+\n",
      "only showing top 1 row\n",
      "\n",
      "title.episode.tsv\n",
      "+---------+------------+------------+-------------+\n",
      "|   tconst|parentTconst|seasonNumber|episodeNumber|\n",
      "+---------+------------+------------+-------------+\n",
      "|tt0020666|  tt15180956|           1|            2|\n",
      "+---------+------------+------------+-------------+\n",
      "only showing top 1 row\n",
      "\n",
      "title.principals.tsv\n",
      "+---------+--------+---------+--------+---+----------+\n",
      "|   tconst|ordering|   nconst|category|job|characters|\n",
      "+---------+--------+---------+--------+---+----------+\n",
      "|tt0000001|       1|nm1588970|    self| \\N|  [\"Self\"]|\n",
      "+---------+--------+---------+--------+---+----------+\n",
      "only showing top 1 row\n",
      "\n",
      "title.ratings.tsv\n",
      "+---------+-------------+--------+\n",
      "|   tconst|averageRating|numVotes|\n",
      "+---------+-------------+--------+\n",
      "|tt0000001|          5.7|    1890|\n",
      "+---------+-------------+--------+\n",
      "only showing top 1 row\n",
      "\n"
     ]
    }
   ],
   "source": [
    "for data, filename in zip(datas, folders):\n",
    "    print(filename)\n",
    "    data.show(1)"
   ]
  },
  {
   "cell_type": "code",
   "execution_count": 18,
   "id": "0996f041",
   "metadata": {},
   "outputs": [
    {
     "name": "stdout",
     "output_type": "stream",
     "text": [
      "+---------+------------+---------+---------+-----------------+--------------------+--------+\n",
      "|   nconst| primaryName|birthYear|deathYear|primaryProfession|      knownForTitles|numNulls|\n",
      "+---------+------------+---------+---------+-----------------+--------------------+--------+\n",
      "|nm2917693|Noah Johnson|       \\N|       \\N|             null|tt11337960,tt0379713|       1|\n",
      "+---------+------------+---------+---------+-----------------+--------------------+--------+\n",
      "only showing top 1 row\n",
      "\n",
      "+---------+--------+--------------------+------+--------+-----+----------+---------------+--------+\n",
      "|  titleId|ordering|               title|region|language|types|attributes|isOriginalTitle|numNulls|\n",
      "+---------+--------+--------------------+------+--------+-----+----------+---------------+--------+\n",
      "|tt3880980|       1|マックのハッスル刑事\tJP\tja\t...|  null|    null| null|      null|           null|       5|\n",
      "+---------+--------+--------------------+------+--------+-----+----------+---------------+--------+\n",
      "only showing top 1 row\n",
      "\n",
      "+----------+---------+--------------------+-------------+-------+---------+-------+--------------+------+--------+\n",
      "|    tconst|titleType|        primaryTitle|originalTitle|isAdult|startYear|endYear|runtimeMinutes|genres|numNulls|\n",
      "+----------+---------+--------------------+-------------+-------+---------+-------+--------------+------+--------+\n",
      "|tt10970874|tvEpisode|\"Die Bauhaus-Stad...|            0|   2019|       \\N|     \\N|     Talk-Show|  null|       1|\n",
      "+----------+---------+--------------------+-------------+-------+---------+-------+--------------+------+--------+\n",
      "only showing top 1 row\n",
      "\n",
      "+---------+---------+-------+--------+\n",
      "|   tconst|directors|writers|numNulls|\n",
      "+---------+---------+-------+--------+\n",
      "|tt7978238|nm9613485|     \\N|       0|\n",
      "+---------+---------+-------+--------+\n",
      "only showing top 1 row\n",
      "\n",
      "+---------+------------+------------+-------------+--------+\n",
      "|   tconst|parentTconst|seasonNumber|episodeNumber|numNulls|\n",
      "+---------+------------+------------+-------------+--------+\n",
      "|tt8015936|   tt5851616|           8|            1|       0|\n",
      "+---------+------------+------------+-------------+--------+\n",
      "only showing top 1 row\n",
      "\n",
      "+----------+--------+---------+--------+---+--------------------+--------+\n",
      "|    tconst|ordering|   nconst|category|job|          characters|numNulls|\n",
      "+----------+--------+---------+--------+---+--------------------+--------+\n",
      "|tt11414132|       1|nm8850134|   actor| \\N|[\"Balachandran Th...|       0|\n",
      "+----------+--------+---------+--------+---+--------------------+--------+\n",
      "only showing top 1 row\n",
      "\n",
      "+---------+-------------+--------+--------+\n",
      "|   tconst|averageRating|numVotes|numNulls|\n",
      "+---------+-------------+--------+--------+\n",
      "|tt8792414|          8.5|     136|       0|\n",
      "+---------+-------------+--------+--------+\n",
      "only showing top 1 row\n",
      "\n"
     ]
    }
   ],
   "source": [
    "for data in datas:\n",
    "    data.withColumn('numNulls', sum(data[col].isNull().cast('int') for col in data.schema.names)).orderBy(col(\"numNulls\").desc()).show(1)"
   ]
  },
  {
   "cell_type": "code",
   "execution_count": 24,
   "id": "ee160cc0",
   "metadata": {},
   "outputs": [
    {
     "name": "stdout",
     "output_type": "stream",
     "text": [
      "+---------+--------+--------------------+------+--------+-----------+--------------------+---------------+-----+\n",
      "|  titleId|ordering|               title|region|language|      types|          attributes|isOriginalTitle|index|\n",
      "+---------+--------+--------------------+------+--------+-----------+--------------------+---------------+-----+\n",
      "|tt0000001|       1|          Карменсіта|    UA|      \\N|imdbDisplay|                  \\N|              0|    0|\n",
      "|tt0000001|       2|          Carmencita|    DE|      \\N|         \\N|       literal title|              0|    1|\n",
      "|tt0000001|       3|Carmencita - span...|    HU|      \\N|imdbDisplay|                  \\N|              0|    2|\n",
      "|tt0000001|       4|          Καρμενσίτα|    GR|      \\N|imdbDisplay|                  \\N|              0|    3|\n",
      "|tt0000001|       5|          Карменсита|    RU|      \\N|imdbDisplay|                  \\N|              0|    4|\n",
      "|tt0000001|       6|          Carmencita|    US|      \\N|imdbDisplay|                  \\N|              0|    5|\n",
      "|tt0000001|       7|          Carmencita|    \\N|      \\N|   original|                  \\N|              1|    6|\n",
      "|tt0000001|       8|             カルメンチータ|    JP|      ja|imdbDisplay|                  \\N|              0|    7|\n",
      "|tt0000002|       1|Le clown et ses c...|    \\N|      \\N|   original|                  \\N|              1|    8|\n",
      "|tt0000002|       2|Le clown et ses c...|    FR|      \\N|imdbDisplay|                  \\N|              0|    9|\n",
      "|tt0000002|       3|   A bohóc és kutyái|    HU|      \\N|imdbDisplay|                  \\N|              0|   10|\n",
      "|tt0000002|       4|Der Clown und sei...|    DE|      \\N|         \\N|       literal title|              0|   11|\n",
      "|tt0000002|       5|Clovnul si cainii...|    RO|      \\N|imdbDisplay|                  \\N|              0|   12|\n",
      "|tt0000002|       6|  Клоун и его собаки|    RU|      \\N|imdbDisplay|                  \\N|              0|   13|\n",
      "|tt0000002|       7|The Clown and His...|    US|      \\N|         \\N|literal English t...|              0|   14|\n",
      "|tt0000002|       8|               道化師と犬|    JP|      ja|imdbDisplay|                  \\N|              0|   15|\n",
      "|tt0000003|       1|    Sarmanul Pierrot|    RO|      \\N|imdbDisplay|                  \\N|              0|   16|\n",
      "|tt0000003|       2|     Szegény Pierrot|    HU|      \\N|imdbDisplay|                  \\N|              0|   17|\n",
      "|tt0000003|       3|              哀れなピエロ|    JP|      ja|imdbDisplay|                  \\N|              0|   18|\n",
      "|tt0000003|       4|        Бідний П'єро|    UA|      \\N|imdbDisplay|                  \\N|              0|   19|\n",
      "+---------+--------+--------------------+------+--------+-----------+--------------------+---------------+-----+\n",
      "only showing top 20 rows\n",
      "\n"
     ]
    }
   ],
   "source": [
    "## Construct indexed dataframe to use chunks\n",
    "indexed_title_akas = title_akas.withColumn(\"index\", monotonically_increasing_id())"
   ]
  },
  {
   "cell_type": "code",
   "execution_count": null,
   "id": "62b61163",
   "metadata": {},
   "outputs": [],
   "source": [
    "## Lighten ids to integers using chunked loops\n",
    "id=0\n",
    "max_num = indexed_title_akas.count()\n",
    "part = 1000\n",
    "cpt=0\n",
    "while cpt < max_num:\n",
    "    for i in indexed_title_akas.filter(col(\"index\").between(cpt, cpt+part)).select(col(\"titleId\")).collect():\n",
    "        c_title_akas = title_akas.withColumn(\"titleId\", regexp_replace(\"titleId\", i[\"titleId\"], str(id)))\n",
    "        c_title_episode = title_episode.withColumn(\"tconst\", regexp_replace(\"tconst\", i[\"titleId\"], str(id)))\n",
    "        c_title_episode = c_title_episode.withColumn(\"parentTconst\", regexp_replace(\"parentTconst\", i[\"titleId\"], str(id)))\n",
    "        c_title_basics = title_basics.withColumn(\"tconst\", regexp_replace(\"tconst\", i[\"titleId\"], str(id)))\n",
    "        c_title_crew = title_crew.withColumn(\"tconst\", regexp_replace(\"tconst\", i[\"titleId\"], str(id)))\n",
    "        c_title_principals = title_principals.withColumn(\"tconst\", regexp_replace(\"tconst\", i[\"titleId\"], str(id)))\n",
    "        c_title_ratings = title_ratings.withColumn(\"tconst\", regexp_replace(\"tconst\", i[\"titleId\"], str(id)))\n",
    "        id = id + 1\n",
    "    if cpt + part >= max_num:\n",
    "        size = max_num - cpt - 1\n",
    "    cpt = cpt + part"
   ]
  },
  {
   "cell_type": "code",
   "execution_count": null,
   "id": "20ae3dd8",
   "metadata": {},
   "outputs": [],
   "source": [
    "## Comma strings to arrays\n",
    "a_name_basics = name_basics.select(split(col(\"knownForTitles\"),\",\").alias(\"knownForTitles\"), split(col(\"primaryProfession\"),\",\").alias(\"primaryProfession\"), col(\"deathYear\"), col(\"birthYear\"), col(\"primaryName\"), col(\"nconst\"))\n",
    "a_title_principals = c_title_principals.select(split(col(\"characters\"), \",\").alias(\"characters\"), col(\"job\"), col(\"category\"), col(\"nconst\"), col(\"ordering\"), col(\"tconst\"))\n",
    "a_title_basics = c_title_basics.select(split(col(\"genres\"), \",\").alias(\"genres\"), col(\"runtimeMinutes\"), col(\"endYear\"), col(\"startYear\"), col(\"isAdult\"), col(\"originalTitle\"), col(\"primaryTitle\"), col(\"titleType\"), col(\"tconst\"))\n",
    "a_title_crew = c_title_crew.select(split(col(\"directors\"), \",\").alias(\"directors\"), split(col(\"writers\"), \",\").alias(\"writers\"), col(\"tconst\")) "
   ]
  },
  {
   "cell_type": "code",
   "execution_count": 147,
   "id": "ed8b9d68",
   "metadata": {},
   "outputs": [],
   "source": [
    "# Replace unuseful strings with blank\n",
    "name_basics_clean = name_basics.na.fill(value = \"\", subset = [\"primaryProfession\"]).withColumn('deathYear', regexp_replace('deathYear', \"\\\\\\\\N\", '')).withColumn('birthYear', regexp_replace('birthYear', \"\\\\\\\\N\", '')).withColumn('primaryProfession', regexp_replace('primaryProfession', 'null', '')).withColumn('knownForTitles', regexp_replace('knownForTitles', '\\\\\\\\N', ''))\n",
    "#name_basics_clean.withColumn('numNulls', sum(name_basics_clean[col].like('\\\\N').cast('int') for col in name_basics_clean.schema.names)).orderBy(col(\"numNulls\").desc()).show(1)"
   ]
  },
  {
   "cell_type": "code",
   "execution_count": 148,
   "id": "2c7a3e96",
   "metadata": {},
   "outputs": [],
   "source": [
    "# Replace unuseful strings with blank\n",
    "title_akas_clean = c_title_akas.na.fill(value = \"\", subset = [\"region\", \"language\", \"types\", \"attributes\", \"isOriginalTitle\"]).withColumn('attributes', regexp_replace('attributes', \"\\\\\\\\N\", '')).withColumn('language', regexp_replace('language', \"\\\\\\\\N\", '')).withColumn('types', regexp_replace('types', \"\\\\\\\\N\", '')).withColumn('region', regexp_replace('region', \"\\\\\\\\N\", '')).withColumn('isOriginalTitle', regexp_replace('isOriginalTitle', \"\\\\\\\\N\", ''))"
   ]
  },
  {
   "cell_type": "code",
   "execution_count": 149,
   "id": "ebf06775",
   "metadata": {},
   "outputs": [],
   "source": [
    "# Replace unuseful strings with blank\n",
    "title_basics_clean = c_title_basics.na.fill(value = \"\", subset = [\"genres\"]).withColumn('isAdult', regexp_replace('isAdult', \"\\\\\\\\N\", '')).withColumn('runtimeMinutes', regexp_replace('runtimeMinutes', \"\\\\\\\\N\", '')).withColumn('genres', regexp_replace('genres', \"\\\\\\\\N\", '')).withColumn('startYear', regexp_replace('startYear', \"\\\\\\\\N\", '')).withColumn('endYear', regexp_replace('endYear', \"\\\\\\\\N\", ''))\n",
    "#title_basics_clean.withColumn('numNulls', sum(title_basics_clean[col].like('\\\\N').cast('int') for col in title_basics_clean.schema.names)).orderBy(col(\"numNulls\").desc()).show(1)"
   ]
  },
  {
   "cell_type": "code",
   "execution_count": 150,
   "id": "dd796748",
   "metadata": {},
   "outputs": [],
   "source": [
    "# Replace unuseful strings with blank\n",
    "title_crew_clean = c_title_crew.withColumn('writers', regexp_replace('writers', \"\\\\\\\\N\", '')).withColumn('directors', regexp_replace('directors', \"\\\\\\\\N\", ''))\n",
    "#title_crew_clean.withColumn('numNulls', sum(title_crew_clean[col].like('\\\\N').cast('int') for col in title_crew_clean.schema.names)).orderBy(col(\"numNulls\").desc()).show(1)"
   ]
  },
  {
   "cell_type": "code",
   "execution_count": 151,
   "id": "1fb5f66c",
   "metadata": {},
   "outputs": [],
   "source": [
    "# Replace unuseful strings with blank\n",
    "title_episode_clean = c_title_episode.withColumn('seasonNumber', regexp_replace('seasonNumber', \"\\\\\\\\N\", '')).withColumn('episodeNumber', regexp_replace('episodeNumber', \"\\\\\\\\N\", ''))\n",
    "#title_episode_clean.withColumn('numNulls', sum(title_episode_clean[col].like('\\\\N').cast('int') for col in title_episode_clean.schema.names)).orderBy(col(\"numNulls\").desc()).show(1)"
   ]
  },
  {
   "cell_type": "code",
   "execution_count": 152,
   "id": "c17ab9e4",
   "metadata": {},
   "outputs": [],
   "source": [
    "# Replace unuseful strings with blank\n",
    "title_principals_clean = c_title_principals.withColumn('job', regexp_replace('job', \"\\\\\\\\N\", '')).withColumn('characters', regexp_replace('characters', \"\\\\\\\\N\", ''))"
   ]
  },
  {
   "cell_type": "code",
   "execution_count": 153,
   "id": "7e9d998e",
   "metadata": {},
   "outputs": [],
   "source": [
    "# Replace unuseful strings with blank\n",
    "title_ratings_clean = c_title_ratings"
   ]
  },
  {
   "cell_type": "code",
   "execution_count": 154,
   "id": "10bf7110",
   "metadata": {},
   "outputs": [],
   "source": [
    "# Prepare data in array\n",
    "prepared_data = [name_basics_clean, title_akas_clean, title_basics_clean, title_crew_clean, title_episode_clean, title_principals_clean, title_ratings_clean]"
   ]
  },
  {
   "cell_type": "code",
   "execution_count": 155,
   "id": "7d297453",
   "metadata": {},
   "outputs": [],
   "source": [
    "# Prepare endpoints's url\n",
    "base_url = \"http://localhost\"\n",
    "endpoints = [\":8090/name-basics\", \":8091/title-akas\", \":8092/title-basics\", \":8093/title-crew\", \":8094/title-episode\", \":8095/title-principals\", \":8096/title-ratings\"]"
   ]
  },
  {
   "cell_type": "code",
   "execution_count": 156,
   "id": "cce48b1b",
   "metadata": {},
   "outputs": [
    {
     "name": "stdout",
     "output_type": "stream",
     "text": [
      "{\"nconst\":\"nm0000001\",\"primaryName\":\"Fred Astaire\",\"birthYear\":\"1899\",\"deathYear\":\"1987\",\"primaryProfession\":\"soundtrack,actor,miscellaneous\",\"knownForTitles\":\"tt0072308,tt0053137,tt0031983,tt0050419\"}\n",
      "{\"titleId\":\"tt0000001\",\"ordering\":1,\"title\":\"Карменсіта\",\"region\":\"UA\",\"language\":\"\",\"types\":\"imdbDisplay\",\"attributes\":\"\",\"isOriginalTitle\":\"0\"}\n",
      "{\"tconst\":\"tt0000001\",\"titleType\":\"short\",\"primaryTitle\":\"Carmencita\",\"originalTitle\":\"Carmencita\",\"isAdult\":\"0\",\"startYear\":\"1894\",\"endYear\":\"\",\"runtimeMinutes\":\"1\",\"genres\":\"Documentary,Short\"}\n",
      "{\"tconst\":\"tt0000001\",\"directors\":\"nm0005690\",\"writers\":\"\"}\n",
      "{\"tconst\":\"tt0020666\",\"parentTconst\":\"tt15180956\",\"seasonNumber\":\"1\",\"episodeNumber\":\"2\"}\n",
      "{\"tconst\":\"tt0000001\",\"ordering\":1,\"nconst\":\"nm1588970\",\"category\":\"self\",\"job\":\"\",\"characters\":\"[\\\"Self\\\"]\"}\n",
      "{\"tconst\":\"tt0000001\",\"averageRating\":5.7,\"numVotes\":1890}\n"
     ]
    }
   ],
   "source": [
    "## Construct json and post result to api\n",
    "for p_data, endpoint in zip(prepared_data, endpoints):\n",
    "    data = p_data.toJSON()\n",
    "    print(data.first())\n",
    "    #requests.post(url = base_url + endpoint, data = data.first())"
   ]
  }
 ],
 "metadata": {
  "kernelspec": {
   "display_name": "Python 3 (ipykernel)",
   "language": "python",
   "name": "python3"
  },
  "language_info": {
   "codemirror_mode": {
    "name": "ipython",
    "version": 3
   },
   "file_extension": ".py",
   "mimetype": "text/x-python",
   "name": "python",
   "nbconvert_exporter": "python",
   "pygments_lexer": "ipython3",
   "version": "3.7.13"
  }
 },
 "nbformat": 4,
 "nbformat_minor": 5
}
